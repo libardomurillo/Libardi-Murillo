{
 "cells": [
  {
   "cell_type": "code",
   "execution_count": 35,
   "metadata": {
    "collapsed": false
   },
   "outputs": [
    {
     "name": "stdout",
     "output_type": "stream",
     "text": [
      "terminos   Resultado     St%          Sa%\n",
      "1          1.000000    39.346887\n",
      "2          1.500000    9.020331    33.333333\n",
      "3          1.625000    1.438692    7.692308\n",
      "4          1.645833    0.175085    1.265823\n",
      "5          1.648438    0.017135    0.157978\n",
      "6          1.648698    0.001339    0.015795\n"
     ]
    }
   ],
   "source": [
    "from math import *\n",
    "\n",
    "def f(y):\n",
    "    print (\"terminos   Resultado     St%          Sa%\")\n",
    "    for i in range (y+1):\n",
    "        et=1.64872\n",
    "        if i==0:\n",
    "            fe=1\n",
    "            St=((et-fe)/et)*100       \n",
    "            print (\"%d          %f    %f\" %(i+1,fe,St)) \n",
    "        if i==1:\n",
    "            x=0.5\n",
    "            Cfe=fe\n",
    "            fe=x+fe\n",
    "            St=((et-fe)/et)*100\n",
    "            Sa=(fe-Cfe)/fe*100\n",
    "            print (\"%d          %f    %f    %f\"     %(i+1,fe,St,Sa))\n",
    "        if i==2:\n",
    "            Cfe=fe\n",
    "            fe=Cfe+(x**2/factorial(2))\n",
    "            St=((et-fe)/et)*100  \n",
    "            Sa=(fe-Cfe)/fe*100\n",
    "            print (\"%d          %f    %f    %f\"%(i+1,fe,St,Sa))\n",
    "        if i==3:\n",
    "            Cfe=fe\n",
    "            fe=Cfe+(x**3/factorial(3))\n",
    "            St=((et-fe)/et)*100  \n",
    "            Sa=(fe-Cfe)/fe*100\n",
    "            print (\"%d          %f    %f    %f\" %(i+1,fe,St,Sa))\n",
    "        if i==4:\n",
    "            Cfe=fe\n",
    "            fe=Cfe+(x**4/factorial(4))\n",
    "            St=((et-fe)/et)*100 \n",
    "            Sa=(fe-Cfe)/fe*100\n",
    "            print (\"%d          %f    %f    %f\"  %(i+1,fe,St,Sa))\n",
    "        if i==5:\n",
    "            Cfe=fe\n",
    "            fe=Cfe+(x**5/factorial(5))\n",
    "            St=((et-fe)/et)*100 \n",
    "            Sa=(fe-Cfe)/fe*100\n",
    "            print (\"%d          %f    %f    %f\"  %(i+1,fe,St,Sa))\n",
    "        \n",
    "    \n",
    "f(7)\n",
    "    "
   ]
  },
  {
   "cell_type": "code",
   "execution_count": null,
   "metadata": {
    "collapsed": true
   },
   "outputs": [],
   "source": []
  }
 ],
 "metadata": {
  "kernelspec": {
   "display_name": "Python 3",
   "language": "python",
   "name": "python3"
  },
  "language_info": {
   "codemirror_mode": {
    "name": "ipython",
    "version": 3
   },
   "file_extension": ".py",
   "mimetype": "text/x-python",
   "name": "python",
   "nbconvert_exporter": "python",
   "pygments_lexer": "ipython3",
   "version": "3.4.3"
  }
 },
 "nbformat": 4,
 "nbformat_minor": 0
}
