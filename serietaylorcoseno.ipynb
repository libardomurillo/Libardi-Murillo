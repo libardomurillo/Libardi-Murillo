{
 "cells": [
  {
   "cell_type": "code",
   "execution_count": null,
   "metadata": {
    "collapsed": true
   },
   "outputs": [],
   "source": [
    "from math import *\n",
    "\n",
    "def f(x,g):\n",
    "    h=pi/12\n",
    "    xii=pi/3\n",
    "    print (\"%f \" %(x))\n",
    "    for i in range (g+1):\n",
    "        if i==0:\n",
    "            fx=cos(x) \n",
    "            e=((cos(xii)-fx)/cos(xii))*100\n",
    "            print (\"%d    %f      %f\" %(i, fx, e))\n",
    "        if i==1:\n",
    "            fcont=fx\n",
    "            fx=-sin(x)*(h)\n",
    "            fx=fcont+fx\n",
    "            e=((cos(xii)-fx)/cos(xii))*100\n",
    "            print (\"%d    %f      %f\" %(i, fx, e))\n",
    "        if i==2:\n",
    "            fcont=fx\n",
    "            fx=-((cos(x)*(h)**2)/factorial(2))\n",
    "            fx=fcont+fx\n",
    "            e=((cos(xii)-fx)/cos(xii))*100\n",
    "            print (\"%d    %f      %f\" %(i, fx, e))\n",
    "        if i==3:\n",
    "            fcont=fx\n",
    "            fx=((sin(x)*(h)**3)/factorial(3))\n",
    "            fx=fcont+fx\n",
    "            e=((cos(xii)-fx)/cos(xii))*100\n",
    "            print (\"%d    %f      %f\" %(i, fx, e))\n",
    "        if i==4:\n",
    "            fcont=fx\n",
    "            fx=((cos(x)*(h)**4)/factorial(4))\n",
    "            fx=fcont+fx\n",
    "            e=((cos(xii)-fx)/cos(xii))*100\n",
    "            print (\"%d    %f      %f\" %(i, fx, e))\n",
    "        if i==5:\n",
    "            fcont=fx\n",
    "            fx=-((sin(x)*(h)**5)/factorial(5))\n",
    "            fx=fcont+fx\n",
    "            e=((cos(xii)-fx)/cos(xii))*100\n",
    "            print (\"%d    %f      %f\" %(i, fx, e))\n",
    "        if i==6:\n",
    "            fcont=fx\n",
    "            fx=-((cos(x)*(h)**6)/factorial(6))\n",
    "            fx=fcont+fx\n",
    "            e=((cos(xii)-fx)/cos(xii))*100\n",
    "            print (\"%d    %f      %f \" %(i, fx, e))\n",
    "   \n",
    "\n",
    "        \n",
    "f(pi/4,6)"
   ]
  }
 ],
 "metadata": {
  "kernelspec": {
   "display_name": "Python 2",
   "language": "python",
   "name": "python2"
  },
  "language_info": {
   "codemirror_mode": {
    "name": "ipython",
    "version": 2
   },
   "file_extension": ".py",
   "mimetype": "text/x-python",
   "name": "python",
   "nbconvert_exporter": "python",
   "pygments_lexer": "ipython2",
   "version": "2.7.10"
  }
 },
 "nbformat": 4,
 "nbformat_minor": 0
}
