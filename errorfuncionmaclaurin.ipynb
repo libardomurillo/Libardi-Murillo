{
 "cells": [
  {
   "cell_type": "code",
   "execution_count": 17,
   "metadata": {
    "collapsed": false
   },
   "outputs": [
    {
     "name": "stdout",
     "output_type": "stream",
     "text": [
      "Digite el Valor de X: 2\n",
      "Digite las Cifras Significativas n: 2\n",
      "\n",
      "Error Tolerado:  0.5 %\n",
      "\n",
      "Iteracion | Valor Actual | Valor Anterior | Err\n",
      "\n",
      "1         | 1.000000      | 0.000000      | 1.000000\n",
      "\n",
      "2         | 3.000000      | 1.000000      | 0.000000\n",
      "\n"
     ]
    }
   ],
   "source": [
    "from math import *\n",
    "\n",
    "x= input(\"Digite el Valor de X: \")\n",
    "n= input(\"Digite las Cifras Significativas n: \")\n",
    "\n",
    "E= 0.5*10**(2-n)\n",
    "\n",
    "valor_act= 1\n",
    "valor_ant= 0\n",
    "Err= 0\n",
    "i= 1\n",
    "\n",
    "print \"\\nEl Error Tolerado es: \",E,\"%\"\n",
    "print \"\\nIteracion | Valor Actual | Valor Anterior | Err\\n\"\n",
    "\n",
    "Err= (valor_act - valor_ant)/valor_act\n",
    "\n",
    "while True:\n",
    "    print \"%d         | %f      | %f      | %f\\n\" %(i, valor_act, valor_ant, Err)\n",
    "\n",
    "    valor_ant= valor_act\n",
    "    valor_act= ((x**i)/factorial(i)) + valor_ant\n",
    "    Err= (valor_act - valor_ant)/valor_act    \n",
    "    i+=1 \n",
    "    \n",
    "    if Err < E:\n",
    "        print \"%d         | %f      | %f      | %f\\n\" %(i, valor_act, valor_ant, Err)\n",
    "        break\n",
    "   "
   ]
  },
  {
   "cell_type": "code",
   "execution_count": null,
   "metadata": {
    "collapsed": true
   },
   "outputs": [],
   "source": []
  }
 ],
 "metadata": {
  "kernelspec": {
   "display_name": "Python 2",
   "language": "python",
   "name": "python2"
  },
  "language_info": {
   "codemirror_mode": {
    "name": "ipython",
    "version": 2
   },
   "file_extension": ".py",
   "mimetype": "text/x-python",
   "name": "python",
   "nbconvert_exporter": "python",
   "pygments_lexer": "ipython2",
   "version": "2.7.10"
  }
 },
 "nbformat": 4,
 "nbformat_minor": 0
}
