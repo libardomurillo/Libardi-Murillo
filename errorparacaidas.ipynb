{
 "cells": [
  {
   "cell_type": "code",
   "execution_count": null,
   "metadata": {
    "collapsed": true
   },
   "outputs": [],
   "source": [
    "from math import *\n",
    "\n",
    "v_act= 0 \n",
    "v_ant= 0 \n",
    "sol_aproximada= 0\n",
    "sol_analitica= 0  \n",
    "t= 0   \n",
    "Ev= 0     \n",
    "t_ant= 0  \n",
    "g= 9.8  \n",
    "c= 12.5 \n",
    "m= 68.1   \n",
    "n= input(\"Digite las Cifras Significativas n: \")  \n",
    "Etol= 0.5*10**(2-n)\n",
    "\n",
    "print \"\\nError Tolerado: \",Etol,\"%\"  \n",
    "print \"\\nt | Solucion Analitica | Solucion Aproximada | Error\\n\"   \n",
    "\n",
    "while True:\n",
    "    sol_analitica= ((g*m)/c) * (1-exp(-(c/m)*t))    \n",
    "\n",
    "    v_act= v_ant + (g-(c/m)*v_ant) * (t - t_ant)  \n",
    "\n",
    "    v_ant= v_act\n",
    "    sol_aproximada= v_act\n",
    "\n",
    "    Ev= abs( sol_analitica - sol_aproximada)\n",
    "\n",
    "    print \"%d | %f | %f | %f\\n\" %(t, sol_analitica, sol_aproximada, Ev) \n",
    "\n",
    "    if Ev < Etol and t != 0:\n",
    "        break\n",
    "\n",
    "    t_ant= t\n",
    "    t= t+2"
   ]
  }
 ],
 "metadata": {
  "kernelspec": {
   "display_name": "Python 2",
   "language": "python",
   "name": "python2"
  },
  "language_info": {
   "codemirror_mode": {
    "name": "ipython",
    "version": 2
   },
   "file_extension": ".py",
   "mimetype": "text/x-python",
   "name": "python",
   "nbconvert_exporter": "python",
   "pygments_lexer": "ipython2",
   "version": "2.7.10"
  }
 },
 "nbformat": 4,
 "nbformat_minor": 0
}
